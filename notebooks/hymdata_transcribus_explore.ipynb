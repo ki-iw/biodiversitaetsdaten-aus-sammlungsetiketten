{
 "cells": [
  {
   "cell_type": "code",
   "execution_count": null,
   "id": "bf4d2536",
   "metadata": {},
   "outputs": [],
   "source": [
    "import os\n",
    "from kiebids.evaluation import process_xml_files\n",
    "from kiebids import config\n",
    "from PIL import Image\n",
    "from IPython.display import display"
   ]
  },
  {
   "cell_type": "code",
   "execution_count": null,
   "id": "8aa18487",
   "metadata": {},
   "outputs": [],
   "source": [
    "output_path = \"../data\"\n",
    "\n",
    "process_xml_files(\n",
    "    os.path.join(\n",
    "        config.shared_folder,\n",
    "        \"hymdata_sample/20230511T160908__coll.mfn-berlin.de_u_78a081\",\n",
    "    ),\n",
    "    output_path,\n",
    ")"
   ]
  },
  {
   "cell_type": "code",
   "execution_count": null,
   "id": "53f4a3d7",
   "metadata": {},
   "outputs": [],
   "source": [
    "image_files = [f for f in os.listdir(output_path) if f.endswith((\"png\", \"jpg\", \"jpeg\"))]\n",
    "\n",
    "for image_file in image_files:\n",
    "    image_path = os.path.join(output_path, image_file)\n",
    "    img = Image.open(image_path)\n",
    "    display(img)"
   ]
  },
  {
   "cell_type": "markdown",
   "id": "bf6c7fc0",
   "metadata": {},
   "source": [
    "### Evaluation Challenges:\n",
    "- polygon number might vary drastically\n",
    "- orientation of polygons not necessarily faulty\n",
    "- metric (iou or others) should be weighed less\n"
   ]
  }
 ],
 "metadata": {
  "kernelspec": {
   "display_name": "zug-mfn",
   "language": "python",
   "name": "zug-mfn"
  },
  "language_info": {
   "codemirror_mode": {
    "name": "ipython",
    "version": 3
   },
   "file_extension": ".py",
   "mimetype": "text/x-python",
   "name": "python",
   "nbconvert_exporter": "python",
   "pygments_lexer": "ipython3",
   "version": "3.10.13"
  }
 },
 "nbformat": 4,
 "nbformat_minor": 5
}
